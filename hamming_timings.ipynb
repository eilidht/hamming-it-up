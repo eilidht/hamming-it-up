{
 "cells": [
  {
   "cell_type": "code",
   "execution_count": 2,
   "metadata": {},
   "outputs": [],
   "source": [
    "import timeit\n",
    "import random\n",
    "\n",
    "from hamming import naive_hamming_distance, string_to_hamming_binary, hamming_distance, binary_hamming_dist_calc\n",
    "from hamming_max_dist import naive_hamming_distance_max_stop, hamming_distance_max_stop, \\\n",
    "    binary_hamming_dist_calc_max_stop, bit_count_max_stop\n",
    "\n",
    "CHARACTERS = ['A', 'G', 'T', 'C']\n",
    "STRING_LEN = 63\n",
    "def string_generator(size=STRING_LEN, chars=CHARACTERS):\n",
    "    return ''.join(random.choice(chars) for _ in range(size))"
   ]
  },
  {
   "cell_type": "markdown",
   "metadata": {},
   "source": []
  },
  {
   "cell_type": "code",
   "execution_count": 3,
   "metadata": {},
   "outputs": [
    {
     "name": "stdout",
     "output_type": "stream",
     "text": [
      "GTACTTCGTGAGATCGTCCAGTTCGGCAAGCAAAACGCCCAACAGGAGGCGTGGACCTACGAC\n",
      "CTGGTGAGTACGAGTACTAGTACGAGACGAACCCAGATAATTTGCTCCGACTATGGCGATAAG\n",
      "hamming distance between strings: 50\n"
     ]
    }
   ],
   "source": [
    "from hamming import naive_hamming_distance \n",
    "from random import choice\n",
    "from __main__ import string_generator\n",
    "\n",
    "# initialise test data\n",
    "list_of_strings1 = [string_generator() for i in range(10)]\n",
    "list_of_strings2 = [string_generator() for i in range(10)]\n",
    "s1 = list_of_strings1[0]\n",
    "s2 = list_of_strings2[0]\n",
    "print(s1)\n",
    "print(s2)\n",
    "dist = naive_hamming_distance(s1,s2)\n",
    "print(f'hamming distance between strings: {dist}')"
   ]
  },
  {
   "cell_type": "code",
   "execution_count": 4,
   "metadata": {},
   "outputs": [
    {
     "name": "stdout",
     "output_type": "stream",
     "text": [
      "2.12 µs ± 3.4 ns per loop (mean ± std. dev. of 7 runs, 100,000 loops each)\n"
     ]
    }
   ],
   "source": [
    "%timeit naive_hamming_distance(s1,s2)"
   ]
  },
  {
   "cell_type": "code",
   "execution_count": 5,
   "metadata": {},
   "outputs": [
    {
     "name": "stdout",
     "output_type": "stream",
     "text": [
      "15.2 µs ± 164 ns per loop (mean ± std. dev. of 7 runs, 100,000 loops each)\n"
     ]
    }
   ],
   "source": [
    "# binary hamming time including pre processing\n",
    "dist_binary = hamming_distance(s1, s2)\n",
    "assert dist_binary == dist\n",
    "%timeit hamming_distance(s1,s2)"
   ]
  },
  {
   "cell_type": "code",
   "execution_count": 8,
   "metadata": {},
   "outputs": [
    {
     "name": "stdout",
     "output_type": "stream",
     "text": [
      "10010000001001010001000001001001000010000010100000110000010010010000010001000010100100010000010010001000010000100010100001000010001000100010010010000100010001000010001001000010100010000010100010000100100100001000100000100100010100000010010010000010010\n",
      "1010000100010010000100000101001000000100100100000101001000000100101000000101001000000100100100000101000001001001000001000100100010001000010100000110000001000110001000100001000010100000100010010000010010100000011000010001000010010000011000000100010100\n"
     ]
    }
   ],
   "source": [
    "\n",
    "# preprocess string to binaries\n",
    "b1 = string_to_hamming_binary(s1)\n",
    "b2 = string_to_hamming_binary(s2)\n",
    "print(f'{b1:b}')\n",
    "print(f'{b2:b}')"
   ]
  },
  {
   "cell_type": "code",
   "execution_count": 9,
   "metadata": {},
   "outputs": [
    {
     "name": "stdout",
     "output_type": "stream",
     "text": [
      "4.86 µs ± 28.6 ns per loop (mean ± std. dev. of 7 runs, 100,000 loops each)\n"
     ]
    }
   ],
   "source": [
    "# binary hamming time after pre processing\n",
    "dist_processsed_binary = binary_hamming_dist_calc(b1, b2)\n",
    "assert dist_processsed_binary == dist\n",
    "%timeit binary_hamming_dist_calc(b1, b2)"
   ]
  }
 ],
 "metadata": {
  "kernelspec": {
   "display_name": "Python 3",
   "language": "python",
   "name": "python3"
  },
  "language_info": {
   "codemirror_mode": {
    "name": "ipython",
    "version": 3
   },
   "file_extension": ".py",
   "mimetype": "text/x-python",
   "name": "python",
   "nbconvert_exporter": "python",
   "pygments_lexer": "ipython3",
   "version": "3.11.5"
  }
 },
 "nbformat": 4,
 "nbformat_minor": 2
}
